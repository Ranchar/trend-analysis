{
 "cells": [
  {
   "cell_type": "code",
   "execution_count": 1,
   "metadata": {},
   "outputs": [
    {
     "name": "stderr",
     "output_type": "stream",
     "text": [
      "C:\\ProgramData\\Anaconda3\\lib\\site-packages\\numpy\\_distributor_init.py:32: UserWarning: loaded more than 1 DLL from .libs:\n",
      "C:\\ProgramData\\Anaconda3\\lib\\site-packages\\numpy\\.libs\\libopenblas.NOIJJG62EMASZI6NYURL6JBKM4EVBGM7.gfortran-win_amd64.dll\n",
      "C:\\ProgramData\\Anaconda3\\lib\\site-packages\\numpy\\.libs\\libopenblas.PYQHXLVVQ7VESDPUVUADXEVJOBGHJPAY.gfortran-win_amd64.dll\n",
      "  stacklevel=1)\n"
     ]
    }
   ],
   "source": [
    "import pandas as pd\n",
    "import numpy as np\n",
    "import matplotlib.pyplot as plt\n",
    "from IPython.display import display,clear_output\n",
    "from numpy.polynomial.polynomial import polyfit\n",
    "\n",
    "#.# read simple .cvs limit row\n",
    "df = pd.read_csv(\"condo.csv\")\n",
    "col_name = df['Keyword']\n",
    "df = df.drop(columns=['Keyword', 'Avg. monthly searches']).T\n",
    "df.columns = col_name"
   ]
  },
  {
   "cell_type": "code",
   "execution_count": 2,
   "metadata": {},
   "outputs": [],
   "source": [
    "def compute_overall(keyword):\n",
    "    flag = False\n",
    "    sum_value = 0\n",
    "    count = 0\n",
    "    for i in df[keyword]:\n",
    "        if i == 0 and flag == False:\n",
    "            continue\n",
    "        else:\n",
    "            flag = True\n",
    "            count = count + 1\n",
    "            sum_value = sum_value + i\n",
    "\n",
    "    avg_overall = sum_value/count\n",
    "    # print(avg_overall)\n",
    "\n",
    "    p25_month = round(count*25/100)\n",
    "    avg_p25 = df[keyword].tail(p25_month).mean()\n",
    "    # print(avg_p25)\n",
    "\n",
    "    trend = round(100*(avg_p25-avg_overall)/avg_overall,2)\n",
    "    # print(trend)\n",
    "    return trend"
   ]
  },
  {
   "cell_type": "code",
   "execution_count": 3,
   "metadata": {},
   "outputs": [],
   "source": [
    "def compute_start(keyword):\n",
    "    interval = []\n",
    "    flag = False\n",
    "    start_rec = []\n",
    "    for i in range(len(df[keyword])-2):\n",
    "        x = range(0+i,3+i)\n",
    "        y = [df[keyword][i], df[keyword][i+1], df[keyword][i+2]]\n",
    "        try:\n",
    "            b, m = polyfit(x, y, 1)\n",
    "        except:\n",
    "            m = 0\n",
    "    #     clear_output(wait = True)\n",
    "    #     plt.figure(figsize=(30,10))\n",
    "    #     plt.plot(df[keyword],\"--\", color='#16697a')\n",
    "    #     plt.plot(x, y, 'o', color='#db6400')\n",
    "    #     plt.plot(x, b + m * x, '--', color='#db6400')\n",
    "    #     plt.show()\n",
    "        if m<0 and flag==False:\n",
    "            flag = False\n",
    "        elif m>0 and flag==False: #1st when get positive slope\n",
    "            flag = True\n",
    "        elif m>=0 and flag==True: #after pass 1st will save data\n",
    "            start_rec.append(df.index[i-1])\n",
    "        else:\n",
    "            start_rec.append(df.index[i-1])\n",
    "            start_rec.append(df.index[i])\n",
    "            flag = False\n",
    "            interval.append(list(dict.fromkeys(start_rec)))\n",
    "            start_rec = []\n",
    "            value = []\n",
    "    return interval"
   ]
  },
  {
   "cell_type": "code",
   "execution_count": 4,
   "metadata": {},
   "outputs": [],
   "source": [
    "def compute_down(keyword):\n",
    "    interval = []\n",
    "    flag = False\n",
    "    start_rec = []\n",
    "    for i in range(len(df[keyword])-2):\n",
    "        x = range(0+i,3+i)\n",
    "        y = [df[keyword][i], df[keyword][i+1], df[keyword][i+2]]\n",
    "        try:\n",
    "            b, m = polyfit(x, y, 1)\n",
    "        except:\n",
    "            m = 0\n",
    "#         clear_output(wait = True)\n",
    "#         plt.figure(figsize=(30,10))\n",
    "#         plt.plot(df[keyword],\"--\", color='#16697a')\n",
    "#         plt.plot(x, y, 'o', color='#db6400')\n",
    "#         plt.plot(x, b + m * x, '--', color='#db6400')\n",
    "#         plt.show()\n",
    "        if m>0 and flag==False:\n",
    "            flag = False\n",
    "        elif m<0 and flag==False: #1st when get positive slope\n",
    "            flag = True\n",
    "        elif m<=0 and flag==True: #after pass 1st will save data\n",
    "            start_rec.append(df.index[i])\n",
    "        else:\n",
    "            start_rec.append(df.index[i-1])\n",
    "            start_rec.append(df.index[i])\n",
    "            flag = False\n",
    "            interval.append(list(dict.fromkeys(start_rec)))\n",
    "            start_rec = []\n",
    "    return interval"
   ]
  },
  {
   "cell_type": "code",
   "execution_count": 6,
   "metadata": {},
   "outputs": [
    {
     "name": "stdout",
     "output_type": "stream",
     "text": [
      "Process :  100.0% ----- ไอคอน 2 คอนโดมิเนียมอะไรียม ขายนส่วนกลาง เมือง ปทุมธานี ปทุมธานีกุงเทพมหานครพมหานคร\r"
     ]
    }
   ],
   "source": [
    "OVERALL_TREND = []\n",
    "START_UP = []\n",
    "START_DOWN = []\n",
    "PEAK_MONTH = []\n",
    "BOTTOM_MONTH = []\n",
    "running = 1\n",
    "\n",
    "for keyword in list(df):\n",
    "    trend = compute_overall(keyword)\n",
    "    OVERALL_TREND.append(trend)\n",
    "    \n",
    "    interval = compute_start(keyword)\n",
    "    get_index = [len(interval[i]) for i in range(len(interval))]\n",
    "    maxLen = get_index.index(max(get_index))\n",
    "    interval = interval[maxLen]\n",
    "    START_UP.append(interval)\n",
    "    \n",
    "    interval = compute_down(keyword)\n",
    "    get_index = [len(interval[i]) for i in range(len(interval))]\n",
    "    maxLen = get_index.index(max(get_index))\n",
    "    interval = interval[maxLen]\n",
    "    START_DOWN.append(interval)\n",
    "    \n",
    "    PEAK_MONTH.append(df[keyword][1:].idxmax())\n",
    "    BOTTOM_MONTH.append(df[keyword][1:].idxmin())\n",
    "    \n",
    "    percent = round(100*running/len(list(df)),2)\n",
    "    print(\"Process :  {}% ----- {}\".format(percent, keyword) , end='\\r')\n",
    "    running+=1"
   ]
  },
  {
   "cell_type": "code",
   "execution_count": 7,
   "metadata": {},
   "outputs": [],
   "source": [
    "RESULT = pd.DataFrame()\n",
    "RESULT['keyword'] = list(df)\n",
    "RESULT['OVERALL_TREND'] = OVERALL_TREND\n",
    "RESULT['START_UP'] = START_UP\n",
    "RESULT['START_DOWN'] = START_DOWN\n",
    "RESULT['PEAK_MONTH'] = PEAK_MONTH\n",
    "RESULT['BOTTOM_MONTH'] = BOTTOM_MONTH\n",
    "RESULT.to_csv('RESULT.csv',index=None, encoding='utf-8-sig')"
   ]
  },
  {
   "cell_type": "code",
   "execution_count": null,
   "metadata": {},
   "outputs": [],
   "source": [
    "# start_result = pd.DataFrame()\n",
    "# start_result['v'] = [0,max(df[keyword])]\n",
    "# start_result.index = [interval[maxLen][0],interval[maxLen][0]]"
   ]
  },
  {
   "cell_type": "code",
   "execution_count": null,
   "metadata": {},
   "outputs": [],
   "source": [
    "# end_result = pd.DataFrame()\n",
    "# end_result['v'] = [0,max(df[keyword])]\n",
    "# end_result.index = [interval[maxLen][-1],interval[maxLen][-1]]"
   ]
  },
  {
   "cell_type": "code",
   "execution_count": null,
   "metadata": {},
   "outputs": [],
   "source": [
    "# plt.figure(figsize=(30,10))\n",
    "# plt.plot(df[keyword],\"-\", color='#16697a')\n",
    "# plt.plot(start_result,\"--\",color='#db6400')\n",
    "# plt.plot(end_result,\"--\", color='#db6400')\n",
    "# plt.show()"
   ]
  }
 ],
 "metadata": {
  "kernelspec": {
   "display_name": "Python 3",
   "language": "python",
   "name": "python3"
  },
  "language_info": {
   "codemirror_mode": {
    "name": "ipython",
    "version": 3
   },
   "file_extension": ".py",
   "mimetype": "text/x-python",
   "name": "python",
   "nbconvert_exporter": "python",
   "pygments_lexer": "ipython3",
   "version": "3.7.4"
  }
 },
 "nbformat": 4,
 "nbformat_minor": 4
}
